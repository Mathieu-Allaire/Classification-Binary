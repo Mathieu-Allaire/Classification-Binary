{
  "nbformat": 4,
  "nbformat_minor": 0,
  "metadata": {
    "colab": {
      "provenance": [],
      "collapsed_sections": [],
      "include_colab_link": true
    },
    "kernelspec": {
      "name": "python3",
      "display_name": "Python 3"
    }
  },
  "cells": [
    {
      "cell_type": "markdown",
      "metadata": {
        "id": "view-in-github",
        "colab_type": "text"
      },
      "source": [
        "<a href=\"https://colab.research.google.com/github/Mathieu-Allaire/Classification-Binary/blob/main/Classification_binary.ipynb\" target=\"_parent\"><img src=\"https://colab.research.google.com/assets/colab-badge.svg\" alt=\"Open In Colab\"/></a>"
      ]
    },
    {
      "cell_type": "markdown",
      "metadata": {
        "id": "lVzxJ27amMtD"
      },
      "source": [
        "# Machine Learning to Predict who gets a Loan\n",
        "##  Mathieu Allaire\n",
        "Dawson College\n",
        "Winter 2022\n",
        "360-420-DW"
      ]
    },
    {
      "cell_type": "markdown",
      "metadata": {
        "id": "wLBSYCN-B7xb"
      },
      "source": [
        "## Setup"
      ]
    },
    {
      "cell_type": "markdown",
      "metadata": {
        "id": "q0J4zIqomIuB"
      },
      "source": [
        "### Import Packages"
      ]
    },
    {
      "cell_type": "code",
      "metadata": {
        "id": "BCkvexGHmu_G"
      },
      "source": [
        "import pandas as pd\n",
        "import requests\n",
        "import io\n",
        "import matplotlib.pyplot as plt"
      ],
      "execution_count": null,
      "outputs": []
    },
    {
      "cell_type": "markdown",
      "metadata": {
        "id": "MYJZEPEDmwjF"
      },
      "source": [
        "###  TASK: Seperate the different features in to *categorical* and *continuous* "
      ]
    },
    {
      "cell_type": "code",
      "metadata": {
        "id": "eZMzBKfyCJFg",
        "colab": {
          "base_uri": "https://localhost:8080/"
        },
        "outputId": "60511585-7629-46a7-e085-95093e0b954b"
      },
      "source": [
        "# path to data\n",
        "url_path='https://raw.githubusercontent.com/jbrownlee/Datasets/master/adult-all.csv'\n",
        "\n",
        "# names of all the features (columns)\n",
        "names_list=[\n",
        "    'age',\n",
        "    'work-class',\n",
        "    'fnlwgt',\n",
        "    'education',\n",
        "    'education-num',\n",
        "    'marital-status',\n",
        "    'occupation',\n",
        "    'relationship',\n",
        "    'race',\n",
        "    'sex',\n",
        "    'capital-gain',\n",
        "    'capital-loss',\n",
        "    'hours-per-week',\n",
        "    'native-country',\n",
        "    'TARGET',\n",
        "]\n",
        "\n",
        "# TASK: Which are the `categorical` variables?\n",
        "categorical_vars = [\n",
        "  \"work-class\",\n",
        "  \"education\",\n",
        "  'marital-status',\n",
        "  'occupation',\n",
        "  'relationship',\n",
        "  'race',\n",
        "  'sex',\n",
        "  'native-country'\n",
        "]\n",
        "\n",
        "# names of columns which should NOT be included in the model\n",
        "vars_omit = ['fnlwgt','TARGET']\n",
        "\n",
        "# everything else is a `continuous` variable\n",
        "continuous_vars = [v for v in names_list if v not in categorical_vars and v not in vars_omit]\n",
        "\n",
        "print(\"Continuous Variables: \" + str(continuous_vars))\n",
        "print(\"Categorical Variables: \" + str(categorical_vars))\n",
        "print(\"Target Variables: \" + 'TARGET')\n"
      ],
      "execution_count": null,
      "outputs": [
        {
          "output_type": "stream",
          "name": "stdout",
          "text": [
            "Continuous Variables: ['age', 'education-num', 'capital-gain', 'capital-loss', 'hours-per-week']\n",
            "Categorical Variables: ['work-class', 'education', 'marital-status', 'occupation', 'relationship', 'race', 'sex', 'native-country']\n",
            "Target Variables: TARGET\n"
          ]
        }
      ]
    },
    {
      "cell_type": "markdown",
      "metadata": {
        "id": "OQbxYAq7ns2K"
      },
      "source": [
        "### Load the data from UCI Machine Learning Repository"
      ]
    },
    {
      "cell_type": "code",
      "metadata": {
        "id": "1dr-SiS_CTnd",
        "colab": {
          "base_uri": "https://localhost:8080/",
          "height": 444
        },
        "outputId": "cfbb8f5d-d748-4413-a533-589792e6a6db"
      },
      "source": [
        "df=pd.read_csv(\n",
        "    url_path,\n",
        "    names=names_list\n",
        "    )\n",
        "df.sample(5)"
      ],
      "execution_count": null,
      "outputs": [
        {
          "output_type": "execute_result",
          "data": {
            "text/plain": [
              "       age        work-class  fnlwgt  education  education-num  \\\n",
              "8025    60  Self-emp-not-inc   52900    HS-grad              9   \n",
              "22167   39           Private  341741  Preschool              1   \n",
              "6095    31           Private  351187    HS-grad              9   \n",
              "45683   56  Self-emp-not-inc   52822  Bachelors             13   \n",
              "2698    50  Self-emp-not-inc  174752    HS-grad              9   \n",
              "\n",
              "           marital-status       occupation   relationship   race     sex  \\\n",
              "8025   Married-civ-spouse     Craft-repair        Husband  White    Male   \n",
              "22167       Never-married    Other-service  Not-in-family  White  Female   \n",
              "6095             Divorced    Other-service      Unmarried  White    Male   \n",
              "45683            Divorced  Farming-fishing  Not-in-family  White    Male   \n",
              "2698             Divorced  Farming-fishing  Not-in-family  White    Male   \n",
              "\n",
              "       capital-gain  capital-loss  hours-per-week native-country TARGET  \n",
              "8025              0             0              42  United-States   >50K  \n",
              "22167             0             0              12  United-States  <=50K  \n",
              "6095              0             0              40  United-States  <=50K  \n",
              "45683             0             0              30  United-States  <=50K  \n",
              "2698              0             0              40  United-States  <=50K  "
            ],
            "text/html": [
              "\n",
              "  <div id=\"df-796b8e83-f18d-4a85-b143-a0d1476fd736\">\n",
              "    <div class=\"colab-df-container\">\n",
              "      <div>\n",
              "<style scoped>\n",
              "    .dataframe tbody tr th:only-of-type {\n",
              "        vertical-align: middle;\n",
              "    }\n",
              "\n",
              "    .dataframe tbody tr th {\n",
              "        vertical-align: top;\n",
              "    }\n",
              "\n",
              "    .dataframe thead th {\n",
              "        text-align: right;\n",
              "    }\n",
              "</style>\n",
              "<table border=\"1\" class=\"dataframe\">\n",
              "  <thead>\n",
              "    <tr style=\"text-align: right;\">\n",
              "      <th></th>\n",
              "      <th>age</th>\n",
              "      <th>work-class</th>\n",
              "      <th>fnlwgt</th>\n",
              "      <th>education</th>\n",
              "      <th>education-num</th>\n",
              "      <th>marital-status</th>\n",
              "      <th>occupation</th>\n",
              "      <th>relationship</th>\n",
              "      <th>race</th>\n",
              "      <th>sex</th>\n",
              "      <th>capital-gain</th>\n",
              "      <th>capital-loss</th>\n",
              "      <th>hours-per-week</th>\n",
              "      <th>native-country</th>\n",
              "      <th>TARGET</th>\n",
              "    </tr>\n",
              "  </thead>\n",
              "  <tbody>\n",
              "    <tr>\n",
              "      <th>8025</th>\n",
              "      <td>60</td>\n",
              "      <td>Self-emp-not-inc</td>\n",
              "      <td>52900</td>\n",
              "      <td>HS-grad</td>\n",
              "      <td>9</td>\n",
              "      <td>Married-civ-spouse</td>\n",
              "      <td>Craft-repair</td>\n",
              "      <td>Husband</td>\n",
              "      <td>White</td>\n",
              "      <td>Male</td>\n",
              "      <td>0</td>\n",
              "      <td>0</td>\n",
              "      <td>42</td>\n",
              "      <td>United-States</td>\n",
              "      <td>&gt;50K</td>\n",
              "    </tr>\n",
              "    <tr>\n",
              "      <th>22167</th>\n",
              "      <td>39</td>\n",
              "      <td>Private</td>\n",
              "      <td>341741</td>\n",
              "      <td>Preschool</td>\n",
              "      <td>1</td>\n",
              "      <td>Never-married</td>\n",
              "      <td>Other-service</td>\n",
              "      <td>Not-in-family</td>\n",
              "      <td>White</td>\n",
              "      <td>Female</td>\n",
              "      <td>0</td>\n",
              "      <td>0</td>\n",
              "      <td>12</td>\n",
              "      <td>United-States</td>\n",
              "      <td>&lt;=50K</td>\n",
              "    </tr>\n",
              "    <tr>\n",
              "      <th>6095</th>\n",
              "      <td>31</td>\n",
              "      <td>Private</td>\n",
              "      <td>351187</td>\n",
              "      <td>HS-grad</td>\n",
              "      <td>9</td>\n",
              "      <td>Divorced</td>\n",
              "      <td>Other-service</td>\n",
              "      <td>Unmarried</td>\n",
              "      <td>White</td>\n",
              "      <td>Male</td>\n",
              "      <td>0</td>\n",
              "      <td>0</td>\n",
              "      <td>40</td>\n",
              "      <td>United-States</td>\n",
              "      <td>&lt;=50K</td>\n",
              "    </tr>\n",
              "    <tr>\n",
              "      <th>45683</th>\n",
              "      <td>56</td>\n",
              "      <td>Self-emp-not-inc</td>\n",
              "      <td>52822</td>\n",
              "      <td>Bachelors</td>\n",
              "      <td>13</td>\n",
              "      <td>Divorced</td>\n",
              "      <td>Farming-fishing</td>\n",
              "      <td>Not-in-family</td>\n",
              "      <td>White</td>\n",
              "      <td>Male</td>\n",
              "      <td>0</td>\n",
              "      <td>0</td>\n",
              "      <td>30</td>\n",
              "      <td>United-States</td>\n",
              "      <td>&lt;=50K</td>\n",
              "    </tr>\n",
              "    <tr>\n",
              "      <th>2698</th>\n",
              "      <td>50</td>\n",
              "      <td>Self-emp-not-inc</td>\n",
              "      <td>174752</td>\n",
              "      <td>HS-grad</td>\n",
              "      <td>9</td>\n",
              "      <td>Divorced</td>\n",
              "      <td>Farming-fishing</td>\n",
              "      <td>Not-in-family</td>\n",
              "      <td>White</td>\n",
              "      <td>Male</td>\n",
              "      <td>0</td>\n",
              "      <td>0</td>\n",
              "      <td>40</td>\n",
              "      <td>United-States</td>\n",
              "      <td>&lt;=50K</td>\n",
              "    </tr>\n",
              "  </tbody>\n",
              "</table>\n",
              "</div>\n",
              "      <button class=\"colab-df-convert\" onclick=\"convertToInteractive('df-796b8e83-f18d-4a85-b143-a0d1476fd736')\"\n",
              "              title=\"Convert this dataframe to an interactive table.\"\n",
              "              style=\"display:none;\">\n",
              "        \n",
              "  <svg xmlns=\"http://www.w3.org/2000/svg\" height=\"24px\"viewBox=\"0 0 24 24\"\n",
              "       width=\"24px\">\n",
              "    <path d=\"M0 0h24v24H0V0z\" fill=\"none\"/>\n",
              "    <path d=\"M18.56 5.44l.94 2.06.94-2.06 2.06-.94-2.06-.94-.94-2.06-.94 2.06-2.06.94zm-11 1L8.5 8.5l.94-2.06 2.06-.94-2.06-.94L8.5 2.5l-.94 2.06-2.06.94zm10 10l.94 2.06.94-2.06 2.06-.94-2.06-.94-.94-2.06-.94 2.06-2.06.94z\"/><path d=\"M17.41 7.96l-1.37-1.37c-.4-.4-.92-.59-1.43-.59-.52 0-1.04.2-1.43.59L10.3 9.45l-7.72 7.72c-.78.78-.78 2.05 0 2.83L4 21.41c.39.39.9.59 1.41.59.51 0 1.02-.2 1.41-.59l7.78-7.78 2.81-2.81c.8-.78.8-2.07 0-2.86zM5.41 20L4 18.59l7.72-7.72 1.47 1.35L5.41 20z\"/>\n",
              "  </svg>\n",
              "      </button>\n",
              "      \n",
              "  <style>\n",
              "    .colab-df-container {\n",
              "      display:flex;\n",
              "      flex-wrap:wrap;\n",
              "      gap: 12px;\n",
              "    }\n",
              "\n",
              "    .colab-df-convert {\n",
              "      background-color: #E8F0FE;\n",
              "      border: none;\n",
              "      border-radius: 50%;\n",
              "      cursor: pointer;\n",
              "      display: none;\n",
              "      fill: #1967D2;\n",
              "      height: 32px;\n",
              "      padding: 0 0 0 0;\n",
              "      width: 32px;\n",
              "    }\n",
              "\n",
              "    .colab-df-convert:hover {\n",
              "      background-color: #E2EBFA;\n",
              "      box-shadow: 0px 1px 2px rgba(60, 64, 67, 0.3), 0px 1px 3px 1px rgba(60, 64, 67, 0.15);\n",
              "      fill: #174EA6;\n",
              "    }\n",
              "\n",
              "    [theme=dark] .colab-df-convert {\n",
              "      background-color: #3B4455;\n",
              "      fill: #D2E3FC;\n",
              "    }\n",
              "\n",
              "    [theme=dark] .colab-df-convert:hover {\n",
              "      background-color: #434B5C;\n",
              "      box-shadow: 0px 1px 3px 1px rgba(0, 0, 0, 0.15);\n",
              "      filter: drop-shadow(0px 1px 2px rgba(0, 0, 0, 0.3));\n",
              "      fill: #FFFFFF;\n",
              "    }\n",
              "  </style>\n",
              "\n",
              "      <script>\n",
              "        const buttonEl =\n",
              "          document.querySelector('#df-796b8e83-f18d-4a85-b143-a0d1476fd736 button.colab-df-convert');\n",
              "        buttonEl.style.display =\n",
              "          google.colab.kernel.accessAllowed ? 'block' : 'none';\n",
              "\n",
              "        async function convertToInteractive(key) {\n",
              "          const element = document.querySelector('#df-796b8e83-f18d-4a85-b143-a0d1476fd736');\n",
              "          const dataTable =\n",
              "            await google.colab.kernel.invokeFunction('convertToInteractive',\n",
              "                                                     [key], {});\n",
              "          if (!dataTable) return;\n",
              "\n",
              "          const docLinkHtml = 'Like what you see? Visit the ' +\n",
              "            '<a target=\"_blank\" href=https://colab.research.google.com/notebooks/data_table.ipynb>data table notebook</a>'\n",
              "            + ' to learn more about interactive tables.';\n",
              "          element.innerHTML = '';\n",
              "          dataTable['output_type'] = 'display_data';\n",
              "          await google.colab.output.renderOutput(dataTable, element);\n",
              "          const docLink = document.createElement('div');\n",
              "          docLink.innerHTML = docLinkHtml;\n",
              "          element.appendChild(docLink);\n",
              "        }\n",
              "      </script>\n",
              "    </div>\n",
              "  </div>\n",
              "  "
            ]
          },
          "metadata": {},
          "execution_count": 3
        }
      ]
    },
    {
      "cell_type": "code",
      "source": [
        "df.groupby([\"TARGET\",\"sex\"])[\"hours-per-week\"].mean()"
      ],
      "metadata": {
        "id": "Zb3KIUFnNFq-"
      },
      "execution_count": null,
      "outputs": []
    },
    {
      "cell_type": "markdown",
      "metadata": {
        "id": "xxeS043tCLUy"
      },
      "source": [
        "## Explore the data (`pandas`)"
      ]
    },
    {
      "cell_type": "markdown",
      "metadata": {
        "id": "nONRhoosqJaT"
      },
      "source": [
        "### TASKS\n",
        "\n",
        " - How many samples (people) in this dataset? \n",
        " - Are there any missing values?\n",
        " - What is the distribution of people in each target class?\n",
        " - What is mean age?\n",
        " - What is the most frequent occupation?\n",
        " - What percentage of people have graduated from at least a bachelor's degree?\n",
        " - For people who make more than 50k/year, what is the average number of hours worked per week? How does that compare to those make less than 50k/year? "
      ]
    },
    {
      "cell_type": "code",
      "source": [],
      "metadata": {
        "id": "p3AFlwRwNA2G"
      },
      "execution_count": null,
      "outputs": []
    },
    {
      "cell_type": "markdown",
      "source": [
        "## Visualize Data (`matplotlib`)"
      ],
      "metadata": {
        "id": "-yBLlWlCtdQI"
      }
    },
    {
      "cell_type": "code",
      "source": [
        "import matplotlib.pyplot as plt \n",
        "\n",
        "\n",
        "\n",
        "fig, ax = plt.subplots(figsize=(10,8))\n",
        "\n",
        "axes = df.boxplot(column=\"age\", by='TARGET',ax=ax,)"
      ],
      "metadata": {
        "id": "RaoqYM2Ldutm"
      },
      "execution_count": null,
      "outputs": []
    },
    {
      "cell_type": "code",
      "source": [
        "df[\"TARGET\"].value_counts()"
      ],
      "metadata": {
        "id": "XCMQIzR75Fop"
      },
      "execution_count": null,
      "outputs": []
    },
    {
      "cell_type": "code",
      "source": [
        "# legend for coloring the different target classes\n",
        "colors = {'<=50K':'red', '>50K':'green'}\n",
        "\n",
        "# choose the continuous vars for scatter plot \n",
        "var1='age'\n",
        "var2='hours-per-week'\n",
        "\n",
        "fig, ax = plt.subplots()\n",
        "grouped = df.groupby('TARGET')\n",
        "for key, group in grouped:\n",
        "    group.plot(ax=ax, kind='scatter', x=var1, y=var2, label=key, color=colors[key],alpha=0.2)\n",
        "\n",
        "plt.show()"
      ],
      "metadata": {
        "id": "rECDWMQi1qZj"
      },
      "execution_count": null,
      "outputs": []
    },
    {
      "cell_type": "code",
      "source": [
        "corr=df[continuous_vars].corr()"
      ],
      "metadata": {
        "id": "sHrHlvTPvFj_"
      },
      "execution_count": null,
      "outputs": []
    },
    {
      "cell_type": "code",
      "source": [
        "from string import ascii_letters\n",
        "import numpy as np\n",
        "import pandas as pd\n",
        "import seaborn as sns\n",
        "import matplotlib.pyplot as plt\n",
        "\n",
        "sns.set_theme(style=\"white\")\n",
        "\n",
        "# Generate a large random dataset\n",
        "rs = np.random.RandomState(33)\n",
        "d = pd.DataFrame(data=rs.normal(size=(100, 26)),\n",
        "                 columns=list(ascii_letters[26:]))\n",
        "\n",
        "# Compute the correlation matrix\n",
        "# corr = d.corr()\n",
        "\n",
        "# Generate a mask for the upper triangle\n",
        "mask = np.triu(np.ones_like(corr, dtype=bool))\n",
        "\n",
        "# Set up the matplotlib figure\n",
        "f, ax = plt.subplots(figsize=(11, 9))\n",
        "\n",
        "# Generate a custom diverging colormap\n",
        "cmap = sns.diverging_palette(230, 20, as_cmap=True)\n",
        "\n",
        "# Draw the heatmap with the mask and correct aspect ratio\n",
        "sns.heatmap(corr, mask=mask,cmap=cmap, vmax=.3, center=0,\n",
        "            square=True, linewidths=.5, cbar_kws={\"shrink\": .5})"
      ],
      "metadata": {
        "id": "4auBA0ZkwlbR"
      },
      "execution_count": null,
      "outputs": []
    },
    {
      "cell_type": "code",
      "source": [
        "df[\"race\"].value_counts()"
      ],
      "metadata": {
        "id": "uvb2t81PxluL"
      },
      "execution_count": null,
      "outputs": []
    },
    {
      "cell_type": "code",
      "source": [
        "import seaborn as sns\n",
        "\n",
        "sns.set_theme(style=\"darkgrid\")\n",
        "# df = sns.load_dataset(\"penguins\")\n",
        "df.head()\n",
        "sns.displot(\n",
        "    df, x=\"age\", col=\"race\", row=\"sex\",\n",
        "    binwidth=10, height=3, facet_kws=dict(margin_titles=True),\n",
        ")"
      ],
      "metadata": {
        "id": "xN1iVDUlyU55"
      },
      "execution_count": null,
      "outputs": []
    },
    {
      "cell_type": "markdown",
      "metadata": {
        "id": "_0ggPwyZV3VH"
      },
      "source": [
        "## Machine learning model for binary classification (`sklearn`)"
      ]
    },
    {
      "cell_type": "code",
      "source": [
        "import numpy as np\n",
        "\n",
        "from sklearn.linear_model import LogisticRegression\n",
        "from sklearn.tree import DecisionTreeClassifier\n",
        "from sklearn.preprocessing import OneHotEncoder, StandardScaler\n",
        "from sklearn.pipeline import Pipeline\n",
        "from sklearn.compose import ColumnTransformer\n",
        "from sklearn.impute import SimpleImputer\n",
        "from sklearn.metrics import precision_score, recall_score, f1_score\n",
        "\n",
        "# X = df[categorical_vars+continuous_vars]\n",
        "X = df[continuous_vars+categorical_vars]\n",
        "y = df[\"TARGET\"]\n",
        "\n",
        "# We create the preprocessing pipelines for both numeric and categorical data.\n",
        "numeric_transformer = Pipeline(steps=[\n",
        "    ('imputer', SimpleImputer(strategy='median')),\n",
        "    ('scaler', StandardScaler())])\n",
        "\n",
        "categorical_transformer = Pipeline(steps=[\n",
        "    ('imputer', SimpleImputer(strategy='constant', fill_value='missing')),\n",
        "    ('onehot', OneHotEncoder(handle_unknown='ignore'))])\n",
        "\n",
        "preprocessor = ColumnTransformer(\n",
        "    transformers=[\n",
        "        ('num', numeric_transformer, continuous_vars),\n",
        "        ('cat', categorical_transformer, categorical_vars)])\n",
        "\n",
        "model =  LogisticRegression(solver=\"liblinear\")\n",
        "# model =  DecisionTreeClassifier(max_depth=4)\n",
        "# Append classifier to preprocessing pipeline.\n",
        "# Now we have a full prediction pipeline.\n",
        "clf = Pipeline(steps=[('preprocessor', preprocessor),\n",
        "                      ('classifier', model)])"
      ],
      "metadata": {
        "id": "tyDA2h4Agsde"
      },
      "execution_count": null,
      "outputs": []
    },
    {
      "cell_type": "code",
      "source": [
        "clf.fit(\n",
        "    X=X,\n",
        "    y=y\n",
        ")\n",
        "clf.predict(\n",
        "    X\n",
        ")"
      ],
      "metadata": {
        "colab": {
          "base_uri": "https://localhost:8080/"
        },
        "id": "H4Jlkl-PBxlr",
        "outputId": "4bff49cc-d6b4-49a5-9cd8-9356e394cc77"
      },
      "execution_count": null,
      "outputs": [
        {
          "output_type": "execute_result",
          "data": {
            "text/plain": [
              "array(['<=50K', '<=50K', '<=50K', ..., '>50K', '<=50K', '>50K'],\n",
              "      dtype=object)"
            ]
          },
          "metadata": {},
          "execution_count": 6
        }
      ]
    },
    {
      "cell_type": "code",
      "source": [
        "# https://github.com/scikit-learn/scikit-learn/issues/12525\n",
        "def get_column_names_from_ColumnTransformer(column_transformer):    \n",
        "    col_name = []\n",
        "    for transformer_in_columns in column_transformer.transformers_[:-1]:#the last transformer is ColumnTransformer's 'remainder'\n",
        "        raw_col_name = transformer_in_columns[2]\n",
        "        if isinstance(transformer_in_columns[1],Pipeline): \n",
        "            transformer = transformer_in_columns[1].steps[-1][1]\n",
        "        else:\n",
        "            transformer = transformer_in_columns[1]\n",
        "        try:\n",
        "            names = transformer.get_feature_names()\n",
        "        except AttributeError: # if no 'get_feature_names' function, use raw column name\n",
        "            names = raw_col_name\n",
        "        if isinstance(names,np.ndarray): # eg.\n",
        "            col_name += names.tolist()\n",
        "        elif isinstance(names,list):\n",
        "            col_name += names    \n",
        "        elif isinstance(names,str):\n",
        "            col_name.append(names)\n",
        "    return col_name\n",
        "\n",
        "\n",
        "# feature_names = get_column_names_from_ColumnTransformer(preprocessor)\n",
        "# df_feature_names=pd.DataFrame(\n",
        "#     list\n",
        "#     (\n",
        "#         zip(\n",
        "#             clf[\"classifier\"].coef_[0],\n",
        "#             feature_names)\n",
        "#     ),\n",
        "#     columns=[\"weight\",\"feature\"]\n",
        "#     ).sort_values(\"weight\")\n",
        "# df_feature_names\n",
        "# ax=df_feature_names.plot.bar(x=\"feature\",y=\"weight\",figsize=(20,10))"
      ],
      "metadata": {
        "id": "xjbkvuq_8kzb"
      },
      "execution_count": null,
      "outputs": []
    },
    {
      "cell_type": "code",
      "source": [
        "###\n",
        "# https://scikit-learn.org/stable/auto_examples/model_selection/plot_confusion_matrix.html#sphx-glr-auto-examples-model-selection-plot-confusion-matrix-py\n",
        "###\n",
        "from sklearn.metrics import confusion_matrix\n",
        "from sklearn.utils.multiclass import unique_labels\n",
        "def plot_confusion_matrix(y_true, y_pred, classes,\n",
        "                          normalize=False,\n",
        "                          title=None,\n",
        "                          cmap=plt.cm.Blues):\n",
        "    \"\"\"\n",
        "    This function prints and plots the confusion matrix.\n",
        "    Normalization can be applied by setting `normalize=True`.\n",
        "    \"\"\"\n",
        "    if not title:\n",
        "        if normalize:\n",
        "            title = 'Normalized confusion matrix'\n",
        "        else:\n",
        "            title = 'Confusion matrix, without normalization'\n",
        "\n",
        "    # Compute confusion matrix\n",
        "    cm = confusion_matrix(y_true, y_pred)\n",
        "    # Only use the labels that appear in the data\n",
        "#     classes = classes[unique_labels(y_true, y_pred)]\n",
        "    if normalize:\n",
        "        cm = cm.astype('float') / cm.sum(axis=1)[:, np.newaxis]\n",
        "        # print(\"Normalized confusion matrix\")\n",
        "    # else:\n",
        "        # print('Confusion matrix, without normalization')\n",
        "\n",
        "    # print(cm)\n",
        "\n",
        "    fig, ax = plt.subplots()\n",
        "    im = ax.imshow(cm, interpolation='nearest', cmap=cmap)\n",
        "    ax.figure.colorbar(im, ax=ax)\n",
        "    # We want to show all ticks...\n",
        "    ax.set(xticks=np.arange(cm.shape[1]),\n",
        "           yticks=np.arange(cm.shape[0]),\n",
        "           # ... and label them with the respective list entries\n",
        "           xticklabels=classes, yticklabels=classes,\n",
        "           title=title,\n",
        "           ylabel='True label',\n",
        "           xlabel='Predicted label')\n",
        "\n",
        "    # Rotate the tick labels and set their alignment.\n",
        "    plt.setp(ax.get_xticklabels(), rotation=45, ha=\"right\",\n",
        "             rotation_mode=\"anchor\")\n",
        "\n",
        "    # Loop over data dimensions and create text annotations.\n",
        "    fmt = '.2f' if normalize else 'd'\n",
        "    thresh = cm.max() / 2.\n",
        "    for i in range(cm.shape[0]):\n",
        "        for j in range(cm.shape[1]):\n",
        "            ax.text(j, i, format(cm[i, j], fmt),\n",
        "                    ha=\"center\", va=\"center\",\n",
        "                    color=\"white\" if cm[i, j] > thresh else \"black\")\n",
        "    fig.tight_layout()\n",
        "    return ax\n",
        "\n",
        "X = df[continuous_vars+categorical_vars]\n",
        "y = df[\"TARGET\"]\n",
        "clf.fit(X,y)\n",
        "y_pred=clf.predict(X)\n",
        "y_test=y\n",
        "np.set_printoptions(precision=2)\n",
        "class_names = df.TARGET.value_counts().index\n",
        "\n",
        "# Plot non-normalized confusion matrix\n",
        "plot_confusion_matrix(y_test, y_pred, classes=class_names,\n",
        "                      title='Confusion matrix, without normalization')\n",
        "\n",
        "# Plot normalized confusion matrix\n",
        "plot_confusion_matrix(y_test, y_pred, classes=class_names, normalize=True,\n",
        "                      title='Normalized confusion matrix')\n",
        "\n",
        "# plt.show()"
      ],
      "metadata": {
        "id": "gNdJljmO-Fmn",
        "colab": {
          "base_uri": "https://localhost:8080/",
          "height": 596
        },
        "outputId": "0763a1e9-6fcf-41e3-ed95-303c0dbccd9c"
      },
      "execution_count": null,
      "outputs": [
        {
          "output_type": "execute_result",
          "data": {
            "text/plain": [
              "<matplotlib.axes._subplots.AxesSubplot at 0x7fcf13e22750>"
            ]
          },
          "metadata": {},
          "execution_count": 7
        },
        {
          "output_type": "display_data",
          "data": {
            "text/plain": [
              "<Figure size 432x288 with 2 Axes>"
            ],
            "image/png": "[encoded data removed]"
          },
          "metadata": {
            "needs_background": "light"
          }
        },
        {
          "output_type": "display_data",
          "data": {
            "text/plain": [
              "<Figure size 432x288 with 2 Axes>"
            ],
            "image/png": "[encoded data removed]"
          },
          "metadata": {
            "needs_background": "light"
          }
        }
      ]
    },
    {
      "cell_type": "code",
      "source": [
        "from sklearn.model_selection import train_test_split"
      ],
      "metadata": {
        "id": "_HOAsZKWj_36"
      },
      "execution_count": null,
      "outputs": []
    },
    {
      "cell_type": "code",
      "source": [
        "X_train, X_test, y_train, y_test = train_test_split(\n",
        "    X,\n",
        "    y,\n",
        "    test_size=0.3,\n",
        "    random_state=12\n",
        ")"
      ],
      "metadata": {
        "id": "JtwpfkFIDORN"
      },
      "execution_count": null,
      "outputs": []
    },
    {
      "cell_type": "code",
      "source": [
        "X_train.shape,y_train.shape"
      ],
      "metadata": {
        "colab": {
          "base_uri": "https://localhost:8080/"
        },
        "id": "6loKm-saDfhU",
        "outputId": "717f9521-9a51-485c-d06f-9576f50f7815"
      },
      "execution_count": null,
      "outputs": [
        {
          "output_type": "execute_result",
          "data": {
            "text/plain": [
              "((34189, 13), (34189,))"
            ]
          },
          "metadata": {},
          "execution_count": 15
        }
      ]
    },
    {
      "cell_type": "code",
      "source": [
        "X_test.shape,y_test.shape"
      ],
      "metadata": {
        "colab": {
          "base_uri": "https://localhost:8080/"
        },
        "id": "6Ae_x4VnDhzt",
        "outputId": "69e1a351-c309-42e4-c203-684a7bd424f8"
      },
      "execution_count": null,
      "outputs": [
        {
          "output_type": "execute_result",
          "data": {
            "text/plain": [
              "((14653, 13), (14653,))"
            ]
          },
          "metadata": {},
          "execution_count": 16
        }
      ]
    },
    {
      "cell_type": "code",
      "source": [
        "clf.fit(\n",
        "    X = X_train,\n",
        "    y = y_train\n",
        ")"
      ],
      "metadata": {
        "colab": {
          "base_uri": "https://localhost:8080/"
        },
        "id": "0yPTYLynDpeU",
        "outputId": "b1186499-5f8c-4af7-ce57-90040442151f"
      },
      "execution_count": null,
      "outputs": [
        {
          "output_type": "execute_result",
          "data": {
            "text/plain": [
              "Pipeline(steps=[('preprocessor',\n",
              "                 ColumnTransformer(transformers=[('num',\n",
              "                                                  Pipeline(steps=[('imputer',\n",
              "                                                                   SimpleImputer(strategy='median')),\n",
              "                                                                  ('scaler',\n",
              "                                                                   StandardScaler())]),\n",
              "                                                  ['age', 'education-num',\n",
              "                                                   'capital-gain',\n",
              "                                                   'capital-loss',\n",
              "                                                   'hours-per-week']),\n",
              "                                                 ('cat',\n",
              "                                                  Pipeline(steps=[('imputer',\n",
              "                                                                   SimpleImputer(fill_value='missing',\n",
              "                                                                                 strategy='constant')),\n",
              "                                                                  ('onehot',\n",
              "                                                                   OneHotEncoder(handle_unknown='ignore'))]),\n",
              "                                                  ['work-class', 'education',\n",
              "                                                   'marital-status',\n",
              "                                                   'occupation', 'relationship',\n",
              "                                                   'race', 'sex',\n",
              "                                                   'native-country'])])),\n",
              "                ('classifier', LogisticRegression(solver='liblinear'))])"
            ]
          },
          "metadata": {},
          "execution_count": 17
        }
      ]
    },
    {
      "cell_type": "code",
      "source": [
        "y_pred = clf.predict(\n",
        "    X_test\n",
        ")"
      ],
      "metadata": {
        "id": "gHiWwAcHEccm"
      },
      "execution_count": null,
      "outputs": []
    },
    {
      "cell_type": "code",
      "source": [
        "# Plot non-normalized confusion matrix\n",
        "plot_confusion_matrix(y_test, y_pred, classes=class_names,\n",
        "                      title='Confusion matrix, without normalization')\n",
        "\n",
        "# Plot normalized confusion matrix\n",
        "plot_confusion_matrix(y_test, y_pred, classes=class_names, normalize=True,\n",
        "                      title='Normalized confusion matrix')\n"
      ],
      "metadata": {
        "colab": {
          "base_uri": "https://localhost:8080/",
          "height": 596
        },
        "id": "HmjhuY87EmTN",
        "outputId": "9f5d85f1-a5c8-425d-cda3-bfff3f34a168"
      },
      "execution_count": null,
      "outputs": [
        {
          "output_type": "execute_result",
          "data": {
            "text/plain": [
              "<matplotlib.axes._subplots.AxesSubplot at 0x7fcf10ccaad0>"
            ]
          },
          "metadata": {},
          "execution_count": 19
        },
        {
          "output_type": "display_data",
          "data": {
            "text/plain": [
              "<Figure size 432x288 with 2 Axes>"
            ],
            "image/png": "[encoded data removed]"
          },
          "metadata": {
            "needs_background": "light"
          }
        },
        {
          "output_type": "display_data",
          "data": {
            "text/plain": [
              "<Figure size 432x288 with 2 Axes>"
            ],
            "image/png": "[encoded data removed]"
          },
          "metadata": {
            "needs_background": "light"
          }
        }
      ]
    },
    {
      "cell_type": "code",
      "source": [
        "training_set_sizes = np.linspace(0.05,0.95,40)\n",
        "\n",
        "results = []\n",
        "for train_size in training_set_sizes:\n",
        "  X_train,X_test,y_train,y_test = train_test_split(\n",
        "      X,\n",
        "      y,\n",
        "      test_size=1.0-train_size,\n",
        "  )\n",
        "  clf.fit(\n",
        "      X = X_train,\n",
        "      y = y_train\n",
        "  )\n",
        "  y_pred = clf.predict(X_test)\n",
        "  d = {\n",
        "      \"train_size\":X_train.shape[0],\n",
        "      \"recall\": f1_score(\n",
        "          y_true=y_test,\n",
        "          y_pred=y_pred,\n",
        "          pos_label = \">50K\"\n",
        "          )\n",
        "  }\n",
        "  results.append(d)\n"
      ],
      "metadata": {
        "id": "2wF2TU6cEwHs"
      },
      "execution_count": null,
      "outputs": []
    },
    {
      "cell_type": "code",
      "source": [
        "df_results = pd.DataFrame(results)\n",
        "# plt.scatter(\n",
        "#     x=df_results[\"train_size\"],\n",
        "#     y=df_results[\"recall\"]\n",
        "# )\n",
        "import seaborn as sns\n",
        "\n",
        "sns.lmplot(\n",
        "    data=df_results,\n",
        "    x=\"train_size\",\n",
        "    y=\"recall\"\n",
        ")"
      ],
      "metadata": {
        "colab": {
          "base_uri": "https://localhost:8080/",
          "height": 388
        },
        "id": "8_mxKu-8G_QO",
        "outputId": "b0c64135-f594-44ec-db12-8eb2ef3a00d9"
      },
      "execution_count": null,
      "outputs": [
        {
          "output_type": "execute_result",
          "data": {
            "text/plain": [
              "<seaborn.axisgrid.FacetGrid at 0x7fcf0e597ed0>"
            ]
          },
          "metadata": {},
          "execution_count": 26
        },
        {
          "output_type": "display_data",
          "data": {
            "text/plain": [
              "<Figure size 360x360 with 1 Axes>"
            ],
            "image/png": "[encoded data removed]"
          },
          "metadata": {
            "needs_background": "light"
          }
        }
      ]
    },
    {
      "cell_type": "code",
      "source": [],
      "metadata": {
        "id": "lK3Gx8zQHQ0Y"
      },
      "execution_count": null,
      "outputs": []
    }
  ]
}